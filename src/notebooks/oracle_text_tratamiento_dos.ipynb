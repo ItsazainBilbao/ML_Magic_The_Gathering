{
 "cells": [
  {
   "cell_type": "code",
   "execution_count": null,
   "id": "c97ffd60",
   "metadata": {},
   "outputs": [],
   "source": [
    "# !pip install -U sentence-transformers"
   ]
  },
  {
   "cell_type": "code",
   "execution_count": null,
   "id": "53bb80b8",
   "metadata": {},
   "outputs": [],
   "source": [
    "# from sentence_transformers import SentenceTransformer\n",
    "# import pandas as pd\n",
    "\n",
    "\n",
    "# df = pd.read_csv(\"../data/dataCardsclean.csv\")\n",
    "\n",
    "# # Carga el modelo preentrenado de embeddings\n",
    "# model = SentenceTransformer(\"all-MiniLM-L6-v2\")  # Ligero y rápido, 384 dimensiones\n",
    "\n",
    "# # Genera los embeddings del texto\n",
    "# embeddings = model.encode(df[\"oracle_text\"].tolist())\n",
    "\n",
    "# # Convierte a DataFrame para visualizar mejor\n",
    "# df_embeddings = pd.DataFrame(embeddings, columns=[f\"embed_{i}\" for i in range(embeddings.shape[1])])\n",
    "\n",
    "# # Une los embeddings al dataframe original\n",
    "# df_final = pd.concat([df, df_embeddings], axis=1)\n",
    "\n",
    "# # Ver un ejemplo\n",
    "# print(df_final.head())\n"
   ]
  },
  {
   "cell_type": "code",
   "execution_count": 1,
   "id": "2613759f",
   "metadata": {},
   "outputs": [
    {
     "name": "stderr",
     "output_type": "stream",
     "text": [
      "c:\\Users\\Edurne\\AppData\\Local\\Programs\\Python\\Python311\\Lib\\site-packages\\tqdm\\auto.py:21: TqdmWarning: IProgress not found. Please update jupyter and ipywidgets. See https://ipywidgets.readthedocs.io/en/stable/user_install.html\n",
      "  from .autonotebook import tqdm as notebook_tqdm\n"
     ]
    },
    {
     "name": "stdout",
     "output_type": "stream",
     "text": [
      "WARNING:tensorflow:From c:\\Users\\Edurne\\AppData\\Local\\Programs\\Python\\Python311\\Lib\\site-packages\\tf_keras\\src\\losses.py:2976: The name tf.losses.sparse_softmax_cross_entropy is deprecated. Please use tf.compat.v1.losses.sparse_softmax_cross_entropy instead.\n",
      "\n"
     ]
    }
   ],
   "source": [
    "from sentence_transformers import SentenceTransformer\n",
    "import pandas as pd\n",
    "import numpy as np\n",
    "from tqdm import tqdm  # Para ver el progreso"
   ]
  },
  {
   "cell_type": "code",
   "execution_count": null,
   "id": "a0a1d96f",
   "metadata": {},
   "outputs": [
    {
     "name": "stderr",
     "output_type": "stream",
     "text": [
      "100%|██████████| 85/85 [16:53<00:00, 11.93s/it]\n"
     ]
    }
   ],
   "source": [
    "\n",
    "df = pd.read_csv(\"../data/dataCardsclean.csv\")\n",
    "\n",
    "model = SentenceTransformer(\"all-MiniLM-L6-v2\")\n",
    "\n",
    "# Texto\n",
    "texts = df[\"oracle_text\"].tolist()\n",
    "\n",
    "# Parámetros\n",
    "batch_size = 1000\n",
    "embeddings = []\n",
    "\n",
    "for i in tqdm(range(0, len(texts), batch_size)):\n",
    "    batch = texts[i:i+batch_size]\n",
    "    batch_embeddings = model.encode(batch)\n",
    "    embeddings.extend(batch_embeddings)\n",
    "\n",
    "# Convertimos a DataFrame\n",
    "df_embeddings = pd.DataFrame(embeddings, columns=[f\"embed_{i}\" for i in range(len(embeddings[0]))])\n",
    "\n",
    "# Unimos al original\n",
    "df_final = pd.concat([df.reset_index(drop=True), df_embeddings], axis=1)\n"
   ]
  },
  {
   "cell_type": "code",
   "execution_count": 3,
   "id": "2e0b24b7",
   "metadata": {},
   "outputs": [
    {
     "data": {
      "application/vnd.microsoft.datawrangler.viewer.v0+json": {
       "columns": [
        {
         "name": "index",
         "rawType": "int64",
         "type": "integer"
        },
        {
         "name": "name",
         "rawType": "object",
         "type": "string"
        },
        {
         "name": "edhrec_rank",
         "rawType": "float64",
         "type": "float"
        }
       ],
       "conversionMethod": "pd.DataFrame",
       "ref": "0d2f8472-e51b-4b51-9b6d-5258d80a397a",
       "rows": [
        [
         "0",
         "Fury Sliver",
         "19733.0"
        ],
        [
         "1",
         "Kor Outfitter",
         "10113.0"
        ],
        [
         "2",
         "Siren Lookout",
         "11762.0"
        ],
        [
         "3",
         "Web",
         "4277.0"
        ],
        [
         "4",
         "Wastewood Verge",
         "24857.0"
        ],
        [
         "5",
         "Surge of Brilliance",
         "22515.0"
        ],
        [
         "6",
         "Obyra's Attendants // Desperate Parry",
         "12868.0"
        ],
        [
         "7",
         "Venerable Knight",
         "11336.0"
        ],
        [
         "8",
         "Wildcall",
         "11654.0"
        ],
        [
         "9",
         "Mystic Skyfish",
         "5279.0"
        ],
        [
         "10",
         "Battlewing Mystic",
         "6131.0"
        ],
        [
         "11",
         "Birds of Paradise",
         "28808.0"
        ],
        [
         "12",
         "Wall of Vipers",
         "2393.0"
        ],
        [
         "13",
         "Admiral Beckett Brass",
         "24251.0"
        ],
        [
         "14",
         "Ragged Playmate",
         "18157.0"
        ],
        [
         "15",
         "Mulch",
         "24618.0"
        ],
        [
         "16",
         "Whiptongue Hydra",
         "23184.0"
        ],
        [
         "17",
         "Wall of Roots",
         "25467.0"
        ],
        [
         "18",
         "Pugnacious Hammerskull",
         "24129.0"
        ],
        [
         "19",
         "War Historian",
         "3051.0"
        ],
        [
         "20",
         "Searing Blaze",
         "13011.0"
        ],
        [
         "21",
         "Siren's Call",
         "10069.0"
        ],
        [
         "22",
         "Mystical Tutor",
         "28728.0"
        ],
        [
         "23",
         "Blood Operative",
         "13325.0"
        ],
        [
         "24",
         "Selvala's Enforcer",
         "7165.0"
        ],
        [
         "25",
         "Coalstoke Gearhulk",
         "13694.0"
        ],
        [
         "26",
         "Fresh Meat",
         "19609.0"
        ],
        [
         "27",
         "Orzhov Guildgate",
         "27279.0"
        ],
        [
         "28",
         "Mortify",
         "28328.0"
        ],
        [
         "29",
         "Narset, Parter of Veils",
         "28218.0"
        ],
        [
         "30",
         "Paradise Druid",
         "27265.0"
        ],
        [
         "31",
         "Run Away Together",
         "26860.0"
        ],
        [
         "32",
         "Sinew Sliver",
         "24157.0"
        ],
        [
         "33",
         "Charge",
         "9933.0"
        ],
        [
         "34",
         "Novice Knight",
         "8935.0"
        ],
        [
         "35",
         "Fallen Askari",
         "1918.0"
        ],
        [
         "36",
         "Altar's Reap",
         "25070.0"
        ],
        [
         "37",
         "Lavinia, Azorius Renegade",
         "26340.0"
        ],
        [
         "38",
         "Odric, Master Tactician",
         "27112.0"
        ],
        [
         "39",
         "Afflict",
         "10031.0"
        ],
        [
         "40",
         "Crown of Gondor",
         "24123.0"
        ],
        [
         "41",
         "Invisible Stalker",
         "26668.0"
        ],
        [
         "42",
         "Dakkon, Shadow Slayer",
         "20490.0"
        ],
        [
         "43",
         "Shahrazad",
         "0.0"
        ],
        [
         "44",
         "Destructive Tampering",
         "12450.0"
        ],
        [
         "45",
         "Harmonize",
         "28573.0"
        ],
        [
         "46",
         "Nocturnal Raid",
         "1295.0"
        ],
        [
         "47",
         "Temporal Manipulation",
         "25697.0"
        ],
        [
         "48",
         "Archon of the Wild Rose",
         "21214.0"
        ],
        [
         "49",
         "Flensermite",
         "17245.0"
        ]
       ],
       "shape": {
        "columns": 2,
        "rows": 84896
       }
      },
      "text/html": [
       "<div>\n",
       "<style scoped>\n",
       "    .dataframe tbody tr th:only-of-type {\n",
       "        vertical-align: middle;\n",
       "    }\n",
       "\n",
       "    .dataframe tbody tr th {\n",
       "        vertical-align: top;\n",
       "    }\n",
       "\n",
       "    .dataframe thead th {\n",
       "        text-align: right;\n",
       "    }\n",
       "</style>\n",
       "<table border=\"1\" class=\"dataframe\">\n",
       "  <thead>\n",
       "    <tr style=\"text-align: right;\">\n",
       "      <th></th>\n",
       "      <th>name</th>\n",
       "      <th>edhrec_rank</th>\n",
       "    </tr>\n",
       "  </thead>\n",
       "  <tbody>\n",
       "    <tr>\n",
       "      <th>0</th>\n",
       "      <td>Fury Sliver</td>\n",
       "      <td>19733.0</td>\n",
       "    </tr>\n",
       "    <tr>\n",
       "      <th>1</th>\n",
       "      <td>Kor Outfitter</td>\n",
       "      <td>10113.0</td>\n",
       "    </tr>\n",
       "    <tr>\n",
       "      <th>2</th>\n",
       "      <td>Siren Lookout</td>\n",
       "      <td>11762.0</td>\n",
       "    </tr>\n",
       "    <tr>\n",
       "      <th>3</th>\n",
       "      <td>Web</td>\n",
       "      <td>4277.0</td>\n",
       "    </tr>\n",
       "    <tr>\n",
       "      <th>4</th>\n",
       "      <td>Wastewood Verge</td>\n",
       "      <td>24857.0</td>\n",
       "    </tr>\n",
       "    <tr>\n",
       "      <th>...</th>\n",
       "      <td>...</td>\n",
       "      <td>...</td>\n",
       "    </tr>\n",
       "    <tr>\n",
       "      <th>84891</th>\n",
       "      <td>Aggressive Biomancy</td>\n",
       "      <td>22237.0</td>\n",
       "    </tr>\n",
       "    <tr>\n",
       "      <th>84892</th>\n",
       "      <td>Horned Troll</td>\n",
       "      <td>2151.0</td>\n",
       "    </tr>\n",
       "    <tr>\n",
       "      <th>84893</th>\n",
       "      <td>Faerie Bladecrafter</td>\n",
       "      <td>23668.0</td>\n",
       "    </tr>\n",
       "    <tr>\n",
       "      <th>84894</th>\n",
       "      <td>Exultant Skymarcher</td>\n",
       "      <td>6063.0</td>\n",
       "    </tr>\n",
       "    <tr>\n",
       "      <th>84895</th>\n",
       "      <td>Disintegrate</td>\n",
       "      <td>14254.0</td>\n",
       "    </tr>\n",
       "  </tbody>\n",
       "</table>\n",
       "<p>84896 rows × 2 columns</p>\n",
       "</div>"
      ],
      "text/plain": [
       "                      name  edhrec_rank\n",
       "0              Fury Sliver      19733.0\n",
       "1            Kor Outfitter      10113.0\n",
       "2            Siren Lookout      11762.0\n",
       "3                      Web       4277.0\n",
       "4          Wastewood Verge      24857.0\n",
       "...                    ...          ...\n",
       "84891  Aggressive Biomancy      22237.0\n",
       "84892         Horned Troll       2151.0\n",
       "84893  Faerie Bladecrafter      23668.0\n",
       "84894  Exultant Skymarcher       6063.0\n",
       "84895         Disintegrate      14254.0\n",
       "\n",
       "[84896 rows x 2 columns]"
      ]
     },
     "execution_count": 3,
     "metadata": {},
     "output_type": "execute_result"
    }
   ],
   "source": [
    "df_final[[\"name\",\"edhrec_rank\"]]"
   ]
  },
  {
   "cell_type": "code",
   "execution_count": 2,
   "id": "e1d422e9",
   "metadata": {},
   "outputs": [],
   "source": [
    "df = pd.read_csv(\"../data/dataCardsclean.csv\")\n",
    "df_final = pd.read_csv(\"../data/dataCardsEmbeded.csv\")"
   ]
  },
  {
   "cell_type": "code",
   "execution_count": 7,
   "id": "f8549a00",
   "metadata": {},
   "outputs": [],
   "source": [
    "df_final['edhrec_rank'] = df_final['edhrec_rank'].max() - df_final['edhrec_rank']"
   ]
  },
  {
   "cell_type": "code",
   "execution_count": 3,
   "id": "152c3b0a",
   "metadata": {},
   "outputs": [],
   "source": [
    "df_final[\"legal_vintage\"] = df[\"legal_vintage\"]"
   ]
  },
  {
   "cell_type": "code",
   "execution_count": 4,
   "id": "0b85dd52",
   "metadata": {},
   "outputs": [],
   "source": [
    "df_final[\"log_price\"] = df[\"log_price\"]"
   ]
  },
  {
   "cell_type": "code",
   "execution_count": 5,
   "id": "f56cceb6",
   "metadata": {},
   "outputs": [],
   "source": [
    "df_final.to_csv(\"../data/dataCardsEmbeded.csv\", index=False)"
   ]
  },
  {
   "cell_type": "markdown",
   "id": "dde1c3d7",
   "metadata": {},
   "source": [
    "## Aplicar PCA para reducir dimensionalidad\n",
    "\n",
    "No sé si tiene sentido, pero bueno. Hay que aprender a pedradas."
   ]
  },
  {
   "cell_type": "code",
   "execution_count": 4,
   "id": "160d0daa",
   "metadata": {},
   "outputs": [
    {
     "name": "stdout",
     "output_type": "stream",
     "text": [
      "Componentes PCA conservados: 177\n"
     ]
    }
   ],
   "source": [
    "from sklearn.decomposition import PCA\n",
    "import pandas as pd\n",
    "\n",
    "# 1. Seleccionar columnas de embeddings\n",
    "bert_cols = [col for col in df_final.columns if col.startswith('embed_')]\n",
    "X_bert = df_final[bert_cols]\n",
    "\n",
    "# 2. Aplicar PCA conservando ~95% de la varianza\n",
    "pca = PCA(n_components=0.95, random_state=42)\n",
    "bert_pca = pca.fit_transform(X_bert)\n",
    "\n",
    "# 3. Crear nuevo DataFrame con los componentes principales\n",
    "bert_pca_df = pd.DataFrame(bert_pca, columns=[f'bert_pca_{i}' for i in range(bert_pca.shape[1])])\n",
    "\n",
    "# 4. Concatenar con el df original (sin los embed_)\n",
    "df_final = pd.concat([df_final.drop(columns=bert_cols).reset_index(drop=True), bert_pca_df.reset_index(drop=True)], axis=1)\n",
    "\n",
    "# (Opcional) Ver cuántos componentes se conservaron\n",
    "print(f\"Componentes PCA conservados: {bert_pca.shape[1]}\")"
   ]
  },
  {
   "cell_type": "code",
   "execution_count": 6,
   "id": "337d01e2",
   "metadata": {},
   "outputs": [],
   "source": [
    "df_final.to_csv(\"../data/dataCardsPCAded.csv\", index=False)"
   ]
  }
 ],
 "metadata": {
  "kernelspec": {
   "display_name": "Python 3",
   "language": "python",
   "name": "python3"
  },
  "language_info": {
   "codemirror_mode": {
    "name": "ipython",
    "version": 3
   },
   "file_extension": ".py",
   "mimetype": "text/x-python",
   "name": "python",
   "nbconvert_exporter": "python",
   "pygments_lexer": "ipython3",
   "version": "3.11.9"
  }
 },
 "nbformat": 4,
 "nbformat_minor": 5
}
