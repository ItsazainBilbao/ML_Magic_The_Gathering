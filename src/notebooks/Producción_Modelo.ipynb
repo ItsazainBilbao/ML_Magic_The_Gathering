{
 "cells": [
  {
   "cell_type": "markdown",
   "id": "f25dd8d4",
   "metadata": {},
   "source": [
    "# Producción Modelo"
   ]
  },
  {
   "cell_type": "code",
   "execution_count": 14,
   "id": "5f934a95",
   "metadata": {},
   "outputs": [],
   "source": [
    "## Imports\n",
    "import numpy as np\n",
    "import pandas as pd\n",
    "import pickle\n",
    "\n",
    "from sklearn.base import BaseEstimator, RegressorMixin\n",
    "from sklearn.model_selection import train_test_split\n",
    "from sklearn.preprocessing import MinMaxScaler\n",
    "from sklearn.pipeline import Pipeline\n",
    "from sklearn.compose import ColumnTransformer\n",
    "from xgboost import XGBRegressor\n",
    "from sklearn.metrics import mean_absolute_error\n",
    "\n",
    "import sys\n",
    "sys.path.append('../')"
   ]
  },
  {
   "cell_type": "code",
   "execution_count": 15,
   "id": "2be6dcc9",
   "metadata": {},
   "outputs": [],
   "source": [
    "## Cargar dataset\n",
    "\n",
    "df = pd.read_csv(\"../data/dataCardsPCAded.csv\")"
   ]
  },
  {
   "cell_type": "markdown",
   "id": "76e0e1c4",
   "metadata": {},
   "source": [
    "Empezamos con el multimodelRegressor para gestionar varios modelos."
   ]
  },
  {
   "cell_type": "markdown",
   "id": "12c2f1ba",
   "metadata": {},
   "source": [
    "## Modelo"
   ]
  },
  {
   "cell_type": "code",
   "execution_count": 16,
   "id": "eca496bf",
   "metadata": {},
   "outputs": [],
   "source": [
    "# ---------------------\n",
    "# 1. Configuración\n",
    "target = \"log_price\"\n",
    "numeric_features = [\n",
    "    'cmc', 'edhrec_rank', 'released_year', 'keyword_count',\n",
    "    'mana_produced_count', 'power_num', 'toughness_num',\n",
    "    'rarity_labeled', \"legal_standard\", \"legal_pioneer\",\n",
    "    \"legal_modern\", \"legal_legacy\", \"legal_vintage\",\n",
    "    \"legal_commander\", \"legal_pauper\"\n",
    "]\n"
   ]
  },
  {
   "cell_type": "code",
   "execution_count": 17,
   "id": "73a2692d",
   "metadata": {},
   "outputs": [],
   "source": [
    "# ---------------------\n",
    "# 2. Clase MultiModelRegressor\n",
    "\n",
    "class MultiModelRegressor(BaseEstimator, RegressorMixin):\n",
    "    def __init__(self, model_cheap=None, model_mid=None, model_expensive=None):\n",
    "        self.model_cheap = model_cheap\n",
    "        self.model_mid = model_mid\n",
    "        self.model_exp = model_expensive\n",
    "\n",
    "    def fit(self, X, y):\n",
    "        mask_cheap = y < 2\n",
    "        mask_mid = (y >= 2) & (y < 4)\n",
    "        mask_exp = y >= 4\n",
    "\n",
    "        if self.model_cheap:\n",
    "            self.model_cheap.fit(X[mask_cheap], y[mask_cheap])\n",
    "        if self.model_mid:\n",
    "            self.model_mid.fit(X[mask_mid], y[mask_mid])\n",
    "        if self.model_exp:\n",
    "            self.model_exp.fit(X[mask_exp], y[mask_exp])\n",
    "        return self\n",
    "\n",
    "    def predict(self, X):\n",
    "        preds = {}\n",
    "        if self.model_cheap:\n",
    "            preds['cheap'] = self.model_cheap.predict(X)\n",
    "        else:\n",
    "            preds['cheap'] = np.full(X.shape[0], np.nan)\n",
    "\n",
    "        if self.model_mid:\n",
    "            preds['mid'] = self.model_mid.predict(X)\n",
    "        else:\n",
    "            preds['mid'] = np.full(X.shape[0], np.nan)\n",
    "\n",
    "        if self.model_exp:\n",
    "            preds['expensive'] = self.model_exp.predict(X)\n",
    "        else:\n",
    "            preds['expensive'] = np.full(X.shape[0], np.nan)\n",
    "\n",
    "        return np.column_stack((preds['cheap'], preds['mid'], preds['expensive']))"
   ]
  },
  {
   "cell_type": "code",
   "execution_count": 18,
   "id": "62499c78",
   "metadata": {},
   "outputs": [],
   "source": [
    "# ---------------------\n",
    "# 3. Preprocesamiento\n",
    "\n",
    "def build_pipeline():\n",
    "    # Escalado numérico\n",
    "    scaler = MinMaxScaler()\n",
    "    preprocessor = ColumnTransformer(\n",
    "        transformers=[\n",
    "            ('num', scaler, numeric_features)\n",
    "        ],\n",
    "        remainder='drop'\n",
    "    )\n",
    "\n",
    "    # Modelos\n",
    "    params_common = {'max_depth': 6}\n",
    "    params_cheap_mid = {'learning_rate': 0.5, 'n_estimators': 200, **params_common}\n",
    "    params_expensive = {'learning_rate': 0.1, 'n_estimators': 100, **params_common}\n",
    "\n",
    "    model_cheap = XGBRegressor(**params_cheap_mid)\n",
    "    model_mid = XGBRegressor(**params_cheap_mid)\n",
    "    model_expensive = XGBRegressor(**params_expensive)\n",
    "\n",
    "    multi_model = MultiModelRegressor(model_cheap, model_mid, model_expensive)\n",
    "\n",
    "    # Pipeline general\n",
    "    pipeline = Pipeline(steps=[\n",
    "        ('preprocessing', preprocessor),\n",
    "        ('model', multi_model)\n",
    "    ])\n",
    "\n",
    "    return pipeline"
   ]
  },
  {
   "cell_type": "code",
   "execution_count": 19,
   "id": "d5a61dfa",
   "metadata": {},
   "outputs": [],
   "source": [
    "\n",
    "# ---------------------\n",
    "# 4. Preparar datos\n",
    "\n",
    "def prepare_data(df):\n",
    "    df_past = df[df['released_year'] < 2025].copy()\n",
    "    df_future = df[df['released_year'] == 2025].copy()\n",
    "\n",
    "    X_past = df_past.drop(columns=['final_price_eur', 'log_price', 'name', \"oracle_text\"])\n",
    "    y_past = df_past[target]\n",
    "\n",
    "    X_future = df_future.drop(columns=['final_price_eur', 'log_price', 'name', \"oracle_text\"])\n",
    "    y_future = df_future[target]\n",
    "\n",
    "    return X_past, y_past, X_future, y_future\n"
   ]
  },
  {
   "cell_type": "code",
   "execution_count": 20,
   "id": "e37ca965",
   "metadata": {},
   "outputs": [],
   "source": [
    "\n",
    "# ---------------------\n",
    "# 5. Entrenamiento\n",
    "\n",
    "def train_model(df):\n",
    "    X_past, y_past, X_future, y_future = prepare_data(df)\n",
    "\n",
    "    # Split interno\n",
    "    X_train, X_test, y_train, y_test = train_test_split(\n",
    "        X_past, y_past, test_size=0.2, random_state=42\n",
    "    )\n",
    "\n",
    "    pipeline = build_pipeline()\n",
    "    pipeline.fit(X_train, y_train)\n",
    "\n",
    "    return pipeline, X_test, y_test, X_future, y_future"
   ]
  },
  {
   "cell_type": "code",
   "execution_count": 21,
   "id": "65cdc9e6",
   "metadata": {},
   "outputs": [],
   "source": [
    "# ---------------------\n",
    "# 6. Guardar / cargar\n",
    "\n",
    "def save_model(model, path=\"../model/production/mediofinal.pkl\"):\n",
    "    with open(path, \"wb\") as f:\n",
    "        pickle.dump(model, f)\n",
    "\n",
    "def load_model(path=\"../model/production/mediofinal.pkl\"):\n",
    "    with open(path, \"rb\") as f:\n",
    "        return pickle.load(f)\n"
   ]
  },
  {
   "cell_type": "markdown",
   "id": "adaed129",
   "metadata": {},
   "source": [
    "## Ejecución"
   ]
  },
  {
   "cell_type": "code",
   "execution_count": 22,
   "id": "eadee647",
   "metadata": {},
   "outputs": [
    {
     "name": "stdout",
     "output_type": "stream",
     "text": [
      "MAE modelo cheap:     13.1111 -- Future 7.1159\n",
      "MAE modelo mid:       22.7508 -- Future 18.7115\n",
      "MAE modelo expensive: 120.4352 -- Future 153.4918\n"
     ]
    },
    {
     "name": "stderr",
     "output_type": "stream",
     "text": [
      "c:\\Users\\Edurne\\AppData\\Local\\Programs\\Python\\Python311\\Lib\\site-packages\\sklearn\\pipeline.py:62: FutureWarning: This Pipeline instance is not fitted yet. Call 'fit' with appropriate arguments before using other methods such as transform, predict, etc. This will raise an error in 1.8 instead of the current warning.\n",
      "  warnings.warn(\n",
      "c:\\Users\\Edurne\\AppData\\Local\\Programs\\Python\\Python311\\Lib\\site-packages\\sklearn\\pipeline.py:62: FutureWarning: This Pipeline instance is not fitted yet. Call 'fit' with appropriate arguments before using other methods such as transform, predict, etc. This will raise an error in 1.8 instead of the current warning.\n",
      "  warnings.warn(\n"
     ]
    }
   ],
   "source": [
    "# df = ... (tu dataframe con todas las columnas)\n",
    "pipeline, X_test, y_test, X_future, y_future = train_model(df)\n",
    "\n",
    "# Predicciones (cada fila contiene 3 valores)\n",
    "y_pred_test = pipeline.predict(X_test)\n",
    "y_pred_future = pipeline.predict(X_future)\n",
    "\n",
    "# Guardar para producción\n",
    "save_model(pipeline)\n",
    "\n",
    "# Métricas\n",
    "mae_cheap = mean_absolute_error(np.expm1(y_test), np.expm1(y_pred_test[:, 0]))\n",
    "mae_mid = mean_absolute_error(np.expm1(y_test), np.expm1(y_pred_test[:, 1]))\n",
    "mae_exp = mean_absolute_error(np.expm1(y_test), np.expm1(y_pred_test[:, 2]))\n",
    "\n",
    "mae_cheap_future = mean_absolute_error(np.expm1(y_future), np.expm1(y_pred_future[:, 0]))\n",
    "mae_mid_future = mean_absolute_error(np.expm1(y_future), np.expm1(y_pred_future[:, 1]))\n",
    "mae_exp_future = mean_absolute_error(np.expm1(y_future), np.expm1(y_pred_future[:, 2]))\n",
    "\n",
    "print(f\"MAE modelo cheap:     {mae_cheap:.4f} -- Future {mae_cheap_future:.4f}\")\n",
    "print(f\"MAE modelo mid:       {mae_mid:.4f} -- Future {mae_mid_future:.4f}\")\n",
    "print(f\"MAE modelo expensive: {mae_exp:.4f} -- Future {mae_exp_future:.4f}\")\n"
   ]
  },
  {
   "cell_type": "code",
   "execution_count": 23,
   "id": "430d4504",
   "metadata": {},
   "outputs": [],
   "source": [
    "## Me dan como el culo, no sé por qué si llevo toda la tarde del martes con putos modelos y en cheap me daba 0.5\n",
    "## Ya paso, me está doliendo la cabeza.\n",
    "## Es que a que le he hecho exponencial al resultado ya exponenciado"
   ]
  },
  {
   "cell_type": "code",
   "execution_count": 24,
   "id": "562784a8",
   "metadata": {},
   "outputs": [
    {
     "name": "stdout",
     "output_type": "stream",
     "text": [
      "Modelo cheap fue el más preciso en 14316 muestras (86.9%)\n",
      "Modelo mid fue el más preciso en 1799 muestras (10.9%)\n",
      "Modelo expensive fue el más preciso en 353 muestras (2.1%)\n"
     ]
    }
   ],
   "source": [
    "import numpy as np\n",
    "\n",
    "# Errores absolutos de cada modelo\n",
    "errors = np.abs(y_pred_test - y_test.values.reshape(-1, 1))\n",
    "\n",
    "# Índice del modelo con menor error para cada muestra\n",
    "best_model_idx = np.argmin(errors, axis=1)\n",
    "\n",
    "# Contar cuántas veces cada modelo fue el mejor\n",
    "labels = np.array(['cheap', 'mid', 'expensive'])\n",
    "(unique, counts) = np.unique(best_model_idx, return_counts=True)\n",
    "\n",
    "for idx, count in zip(unique, counts):\n",
    "    print(f\"Modelo {labels[idx]} fue el más preciso en {count} muestras ({100*count/len(y_test):.1f}%)\")"
   ]
  },
  {
   "cell_type": "code",
   "execution_count": 25,
   "id": "985db80f",
   "metadata": {},
   "outputs": [
    {
     "name": "stdout",
     "output_type": "stream",
     "text": [
      "Modelo entrenado: True\n",
      "Modelo de medio: True\n",
      "Modelo caro: True\n"
     ]
    }
   ],
   "source": [
    "# Asegúrate de que el pipeline está entrenado\n",
    "pipeline, X_test, y_test, X_future, y_future = train_model(df)\n",
    "\n",
    "# Verifica que el pipeline está entrenado (puedes chequear con algo simple)\n",
    "print(f\"Modelo entrenado: {pipeline.named_steps['model'].model_cheap is not None}\")\n",
    "print(f\"Modelo de medio: {pipeline.named_steps['model'].model_mid is not None}\")\n",
    "print(f\"Modelo caro: {pipeline.named_steps['model'].model_exp is not None}\")\n",
    "\n",
    "# Luego, guarda el pipeline entrenado\n",
    "save_model(pipeline)\n"
   ]
  },
  {
   "cell_type": "code",
   "execution_count": 26,
   "id": "ee4b6a09",
   "metadata": {},
   "outputs": [
    {
     "name": "stdout",
     "output_type": "stream",
     "text": [
      "Modelo entrenado: True\n",
      "Modelo de medio: True\n",
      "Modelo caro: True\n"
     ]
    }
   ],
   "source": [
    "# Cargar el modelo\n",
    "with open('../model/production/mediofinal.pkl', 'rb') as f:\n",
    "    pipeline = pickle.load(f)\n",
    "\n",
    "# Verifica que el modelo cargado está entrenado\n",
    "print(f\"Modelo entrenado: {pipeline.named_steps['model'].model_cheap is not None}\")\n",
    "print(f\"Modelo de medio: {pipeline.named_steps['model'].model_mid is not None}\")\n",
    "print(f\"Modelo caro: {pipeline.named_steps['model'].model_exp is not None}\")\n"
   ]
  }
 ],
 "metadata": {
  "kernelspec": {
   "display_name": "Python 3",
   "language": "python",
   "name": "python3"
  },
  "language_info": {
   "codemirror_mode": {
    "name": "ipython",
    "version": 3
   },
   "file_extension": ".py",
   "mimetype": "text/x-python",
   "name": "python",
   "nbconvert_exporter": "python",
   "pygments_lexer": "ipython3",
   "version": "3.11.9"
  }
 },
 "nbformat": 4,
 "nbformat_minor": 5
}
